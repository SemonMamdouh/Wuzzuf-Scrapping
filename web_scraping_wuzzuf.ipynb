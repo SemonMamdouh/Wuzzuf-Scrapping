{
 "cells": [
  {
   "cell_type": "markdown",
   "metadata": {
    "vscode": {
     "languageId": "plaintext"
    }
   },
   "source": [
    "### Wuzzuf Scraping"
   ]
  },
  {
   "cell_type": "code",
   "execution_count": 1,
   "metadata": {},
   "outputs": [
    {
     "data": {
      "text/plain": [
       "<Response [200]>"
      ]
     },
     "execution_count": 1,
     "metadata": {},
     "output_type": "execute_result"
    }
   ],
   "source": [
    "# title,job_link,company,location,days_ago,job_type,experince,skills\n",
    "import requests\n",
    "\n",
    "res = requests.get(\"https://wuzzuf.net/search/jobs/?a=navbl&q=data%20science%20jobs\")\n",
    "res"
   ]
  },
  {
   "cell_type": "code",
   "execution_count": 2,
   "metadata": {},
   "outputs": [
    {
     "data": {
      "text/plain": [
       "bs4.BeautifulSoup"
      ]
     },
     "execution_count": 2,
     "metadata": {},
     "output_type": "execute_result"
    }
   ],
   "source": [
    "# parse\n",
    "from bs4 import BeautifulSoup\n",
    "\n",
    "soup = BeautifulSoup(res.text, 'html.parser')\n",
    "type(soup)"
   ]
  },
  {
   "cell_type": "code",
   "execution_count": 3,
   "metadata": {},
   "outputs": [
    {
     "data": {
      "text/plain": [
       "153"
      ]
     },
     "execution_count": 3,
     "metadata": {},
     "output_type": "execute_result"
    }
   ],
   "source": [
    "len(soup.find_all(\"a\", attrs={'class':'css-o171kl'}))"
   ]
  },
  {
   "cell_type": "code",
   "execution_count": 4,
   "metadata": {},
   "outputs": [
    {
     "data": {
      "text/plain": [
       "15"
      ]
     },
     "execution_count": 4,
     "metadata": {},
     "output_type": "execute_result"
    }
   ],
   "source": [
    "job_divs = soup.find_all('div', attrs={'class':'css-1gatmva e1v1l3u10'})\n",
    "len(job_divs)"
   ]
  },
  {
   "cell_type": "code",
   "execution_count": 5,
   "metadata": {},
   "outputs": [
    {
     "data": {
      "text/plain": [
       "'Data Science Instructor'"
      ]
     },
     "execution_count": 5,
     "metadata": {},
     "output_type": "execute_result"
    }
   ],
   "source": [
    "# title\n",
    "job_tag = job_divs[0].find(\"a\", attrs={'class':'css-o171kl'})\n",
    "job_name = job_tag.text\n",
    "job_name"
   ]
  },
  {
   "cell_type": "code",
   "execution_count": 6,
   "metadata": {},
   "outputs": [
    {
     "data": {
      "text/plain": [
       "'https://wuzzuf.net/jobs/p/qNmqSuZxLUyZ-Data-Science-Instructor-EpsilonAI-Cairo-Egypt'"
      ]
     },
     "execution_count": 6,
     "metadata": {},
     "output_type": "execute_result"
    }
   ],
   "source": [
    "# link\n",
    "job_link = job_tag.attrs['href']\n",
    "job_link"
   ]
  },
  {
   "cell_type": "code",
   "execution_count": 7,
   "metadata": {},
   "outputs": [
    {
     "data": {
      "text/plain": [
       "'EpsilonAI'"
      ]
     },
     "execution_count": 7,
     "metadata": {},
     "output_type": "execute_result"
    }
   ],
   "source": [
    "# company\n",
    "company_tag = job_divs[0].find(\"a\", attrs={'class':'css-17s97q8'})\n",
    "company_tag.text.strip(\" -\")"
   ]
  },
  {
   "cell_type": "code",
   "execution_count": 8,
   "metadata": {},
   "outputs": [
    {
     "data": {
      "text/plain": [
       "'Nasr City, Cairo, Egypt '"
      ]
     },
     "execution_count": 8,
     "metadata": {},
     "output_type": "execute_result"
    }
   ],
   "source": [
    "# location\n",
    "location_tag = job_divs[0].find(\"span\", attrs={\"class\":'css-5wys0k'})\n",
    "location_tag.text"
   ]
  },
  {
   "cell_type": "code",
   "execution_count": 9,
   "metadata": {},
   "outputs": [
    {
     "data": {
      "text/plain": [
       "'25 days ago'"
      ]
     },
     "execution_count": 9,
     "metadata": {},
     "output_type": "execute_result"
    }
   ],
   "source": [
    "# days_ago\n",
    "days_ago = job_divs[0].find('div', attrs={'class':'css-d7j1kk'}).find(\"div\").text\n",
    "days_ago"
   ]
  },
  {
   "cell_type": "code",
   "execution_count": 10,
   "metadata": {},
   "outputs": [
    {
     "data": {
      "text/plain": [
       "['Full Time', 'Part Time', 'Freelance / Project', 'Hybrid']"
      ]
     },
     "execution_count": 10,
     "metadata": {},
     "output_type": "execute_result"
    }
   ],
   "source": [
    "# job_type: job_type,working_location\n",
    "job_type_working_location_values = []\n",
    "\n",
    "job_type_working_tags = job_divs[0].find(\"div\", attrs={'class':'css-1lh32fc'}).find_all('a')\n",
    "for i in range(len(job_type_working_tags)):\n",
    "    job_type_working_location_values.append(job_type_working_tags[i].text)\n",
    "job_type_working_location_values"
   ]
  },
  {
   "cell_type": "code",
   "execution_count": 11,
   "metadata": {},
   "outputs": [
    {
     "name": "stdout",
     "output_type": "stream",
     "text": [
      "Hybrid\n"
     ]
    },
    {
     "data": {
      "text/plain": [
       "''"
      ]
     },
     "execution_count": 11,
     "metadata": {},
     "output_type": "execute_result"
    }
   ],
   "source": [
    "job_type = \"\"\n",
    "working_location = \"\"\n",
    "\n",
    "for val in job_type_working_location_values:\n",
    "    if val.lower() in ['full time', 'part time', 'freelance / project', 'freelance', 'project']:\n",
    "        job_type = job_type + ', ' + val.lower()\n",
    "    elif val.lower() in ['on-site', 'hybird', 'remote']:\n",
    "        working_location = working_location + ', ' + val.lower()\n",
    "    else:\n",
    "        print(val)\n",
    "        \n",
    "job_type = job_type.strip(', ')\n",
    "working_location = working_location.strip(', ')\n",
    "working_location"
   ]
  },
  {
   "cell_type": "code",
   "execution_count": 12,
   "metadata": {},
   "outputs": [
    {
     "data": {
      "text/plain": [
       "'full time, part time, freelance / project'"
      ]
     },
     "execution_count": 12,
     "metadata": {},
     "output_type": "execute_result"
    }
   ],
   "source": [
    "job_type"
   ]
  },
  {
   "cell_type": "code",
   "execution_count": 13,
   "metadata": {},
   "outputs": [
    {
     "data": {
      "text/plain": [
       "['Experienced',\n",
       " '4 - 6 Yrs of Exp',\n",
       " 'IT/Software Development',\n",
       " 'Engineering',\n",
       " 'Computer Science',\n",
       " 'Spark',\n",
       " 'Data Warehousing',\n",
       " 'Big Data',\n",
       " 'ETL',\n",
       " 'Data Modeling']"
      ]
     },
     "execution_count": 13,
     "metadata": {},
     "output_type": "execute_result"
    }
   ],
   "source": [
    "# experience: experinced_number_of_year, skils\n",
    "job_divs[10].find(\"div\", attrs={'class':\"css-y4udm8\"}).find_all('div')[-1].text.split(\" · \")"
   ]
  },
  {
   "cell_type": "code",
   "execution_count": 14,
   "metadata": {},
   "outputs": [
    {
     "data": {
      "text/plain": [
       "['Experienced',\n",
       " '5 - 15 Yrs of Exp',\n",
       " 'IT/Software Development',\n",
       " 'Power BI',\n",
       " 'Data Warehouse',\n",
       " 'Data Modeling',\n",
       " 'Azure',\n",
       " 'Clickhouse',\n",
       " 'SQL',\n",
       " 'Python',\n",
       " 'analytical',\n",
       " 'BI']"
      ]
     },
     "execution_count": 14,
     "metadata": {},
     "output_type": "execute_result"
    }
   ],
   "source": [
    "job_divs[1].find(\"div\", attrs={'class':\"css-y4udm8\"}).find_all('div')[-1].text.split(\" · \")"
   ]
  },
  {
   "cell_type": "code",
   "execution_count": 15,
   "metadata": {},
   "outputs": [
    {
     "data": {
      "text/plain": [
       "'Entry Level 1+ Yrs of Exp'"
      ]
     },
     "execution_count": 15,
     "metadata": {},
     "output_type": "execute_result"
    }
   ],
   "source": [
    "# experinced_number_of_year, skils\n",
    "experience_skills_list = job_divs[0].find(\"div\", attrs={'class':\"css-y4udm8\"}).find_all('div')[-1].text.split(\" · \")\n",
    "experience = \"\"\n",
    "skills = \"\"\n",
    "\n",
    "# check ecperienced years\n",
    "if experience_skills_list[1][0].isnumeric():\n",
    "     experience = \" \".join(experience_skills_list[0:2])\n",
    "     skills = \", \".join(experience_skills_list[2:])\n",
    "else:\n",
    "     experience = experience_skills_list[0]\n",
    "     skills = \", \".join(experience_skills_list[1:])\n",
    "experience"
   ]
  },
  {
   "cell_type": "code",
   "execution_count": 16,
   "metadata": {},
   "outputs": [
    {
     "data": {
      "text/plain": [
       "'IT/Software Development, Engineering - Telecom/Technology, Training/Instructor, Data Science, Computer Science, Computer Engineering, Python, Machine Learning, Deep Learning, Artificial Intelligence (AI)'"
      ]
     },
     "execution_count": 16,
     "metadata": {},
     "output_type": "execute_result"
    }
   ],
   "source": [
    "skills"
   ]
  },
  {
   "cell_type": "code",
   "execution_count": 17,
   "metadata": {},
   "outputs": [],
   "source": [
    "def get_jobtype_working_location(job_div):\n",
    "    job_type = \"\"\n",
    "    working_location = \"\"\n",
    "\n",
    "    job_type_working_tags = job_div.find(\"div\", attrs={'class':'css-1lh32fc'}).find_all('a')\n",
    "    for i in range(len(job_type_working_tags)):\n",
    "        if job_type_working_tags[i].text.lower() in ['full time', 'part time', 'freelance / project', 'freelance', 'project']:\n",
    "            job_type = job_type + ', ' + job_type_working_tags[i].text.lower()\n",
    "        elif job_type_working_tags[i].text.lower() in ['on-site', 'hybrid', 'remote']:\n",
    "            working_location = working_location + ', ' + job_type_working_tags[i].text.lower()\n",
    "        else:\n",
    "            print(job_type_working_tags[i].text)\n",
    "\n",
    "    job_type = job_type.strip(', ')\n",
    "    working_location = working_location.strip(', ')\n",
    "\n",
    "    return job_type, working_location "
   ]
  },
  {
   "cell_type": "code",
   "execution_count": 18,
   "metadata": {},
   "outputs": [
    {
     "data": {
      "text/plain": [
       "'hybrid'"
      ]
     },
     "execution_count": 18,
     "metadata": {},
     "output_type": "execute_result"
    }
   ],
   "source": [
    "job_type, working_location  = get_jobtype_working_location(job_divs[0])\n",
    "job_type\n",
    "working_location"
   ]
  },
  {
   "cell_type": "code",
   "execution_count": 19,
   "metadata": {},
   "outputs": [
    {
     "name": "stdout",
     "output_type": "stream",
     "text": [
      "Internship\n"
     ]
    }
   ],
   "source": [
    "def get_jobtype_working_location(job_div):\n",
    "    job_type = \"\"\n",
    "    working_location = \"\"\n",
    "\n",
    "    job_type_working_tags = job_div.find(\"div\", attrs={'class':'css-1lh32fc'}).find_all('a')\n",
    "    for i in range(len(job_type_working_tags)):\n",
    "        if job_type_working_tags[i].text.lower() in ['full time', 'part time', 'freelance / project', 'freelance', 'project']:\n",
    "            job_type = job_type + ', ' + job_type_working_tags[i].text.lower()\n",
    "        elif job_type_working_tags[i].text.lower() in ['on-site', 'hybrid', 'remote']:\n",
    "            working_location = working_location + ', ' + job_type_working_tags[i].text.lower()\n",
    "        else:\n",
    "            print(job_type_working_tags[i].text)\n",
    "\n",
    "    job_type = job_type.strip(', ')\n",
    "    working_location = working_location.strip(', ')\n",
    "\n",
    "    return job_type, working_location \n",
    "\n",
    "with open(\"wuzzuf_datascience_jobs.csv\", mode='w', encoding='utf-8') as fd:\n",
    "    fd.write(\"title,link,company,location,days_ago,job_type,working_location,experience,skills\\n\") # header\n",
    "    # data from 1 page\n",
    "    for i in range(len(job_divs)):\n",
    "        # title\n",
    "        job_tag = job_divs[i].find(\"a\", attrs={'class':'css-o171kl'})\n",
    "        job_name = job_tag.text\n",
    "\n",
    "        # link\n",
    "        job_link = job_tag.attrs['href']\n",
    "\n",
    "        # company\n",
    "        company_tag = job_divs[i].find(\"a\", attrs={'class':'css-17s97q8'})\n",
    "        company = company_tag.text.strip(\" -\")\n",
    "\n",
    "        # location\n",
    "        location_tag = job_divs[i].find(\"span\", attrs={\"class\":'css-5wys0k'})\n",
    "        location = location_tag.text\n",
    "\n",
    "        # days_ago\n",
    "        days_ago = job_divs[i].find('div', attrs={'class':'css-d7j1kk'}).find(\"div\").text\n",
    "        \n",
    "        # job_type: job_type,working_location\n",
    "        job_type, working_location  = get_jobtype_working_location(job_divs[i])\n",
    "\n",
    "        # experinced_number_of_year, skils\n",
    "        experience_skills_list = job_divs[i].find(\"div\", attrs={'class':\"css-y4udm8\"}).find_all('div')[-1].text.split(\" · \")\n",
    "        experience = \"\"\n",
    "        skills = \"\"\n",
    "\n",
    "        ## check ecperienced years\n",
    "        if experience_skills_list[1][0].isnumeric():\n",
    "            experience = \" \".join(experience_skills_list[0:2])\n",
    "            skills = \", \".join(experience_skills_list[2:])\n",
    "        else:\n",
    "            experience = experience_skills_list[0]\n",
    "            skills = \", \".join(experience_skills_list[1:])\n",
    "        \n",
    "        fd.write(f\"\\\"{job_name}\\\",\\\"{job_link}\\\",\\\"{company}\\\",\\\"{location}\\\",\\\"{days_ago}\\\",\\\"{job_type}\\\",\\\"{working_location}\\\",\\\"{experience}\\\",\\\"{skills}\\\"\\n\")"
   ]
  },
  {
   "cell_type": "code",
   "execution_count": 20,
   "metadata": {},
   "outputs": [
    {
     "data": {
      "text/html": [
       "<div>\n",
       "<style scoped>\n",
       "    .dataframe tbody tr th:only-of-type {\n",
       "        vertical-align: middle;\n",
       "    }\n",
       "\n",
       "    .dataframe tbody tr th {\n",
       "        vertical-align: top;\n",
       "    }\n",
       "\n",
       "    .dataframe thead th {\n",
       "        text-align: right;\n",
       "    }\n",
       "</style>\n",
       "<table border=\"1\" class=\"dataframe\">\n",
       "  <thead>\n",
       "    <tr style=\"text-align: right;\">\n",
       "      <th></th>\n",
       "      <th>title</th>\n",
       "      <th>link</th>\n",
       "      <th>company</th>\n",
       "      <th>location</th>\n",
       "      <th>days_ago</th>\n",
       "      <th>job_type</th>\n",
       "      <th>working_location</th>\n",
       "      <th>experience</th>\n",
       "      <th>skills</th>\n",
       "    </tr>\n",
       "  </thead>\n",
       "  <tbody>\n",
       "    <tr>\n",
       "      <th>0</th>\n",
       "      <td>Data Science Instructor</td>\n",
       "      <td>https://wuzzuf.net/jobs/p/qNmqSuZxLUyZ-Data-Sc...</td>\n",
       "      <td>EpsilonAI</td>\n",
       "      <td>Nasr City, Cairo, Egypt</td>\n",
       "      <td>25 days ago</td>\n",
       "      <td>full time, part time, freelance / project</td>\n",
       "      <td>hybrid</td>\n",
       "      <td>Entry Level 1+ Yrs of Exp</td>\n",
       "      <td>IT/Software Development, Engineering - Telecom...</td>\n",
       "    </tr>\n",
       "    <tr>\n",
       "      <th>1</th>\n",
       "      <td>Power BI &amp; Data Engineer</td>\n",
       "      <td>https://wuzzuf.net/jobs/p/ffjtbmow1rcd-power-b...</td>\n",
       "      <td>Mojaa</td>\n",
       "      <td>New Cairo, Cairo, Egypt</td>\n",
       "      <td>7 days ago</td>\n",
       "      <td>full time</td>\n",
       "      <td>on-site</td>\n",
       "      <td>Experienced 5 - 15 Yrs of Exp</td>\n",
       "      <td>IT/Software Development, Power BI, Data Wareho...</td>\n",
       "    </tr>\n",
       "    <tr>\n",
       "      <th>2</th>\n",
       "      <td>Sr Data Engineer</td>\n",
       "      <td>https://wuzzuf.net/jobs/p/ftd0zh3jscqe-sr-data...</td>\n",
       "      <td>SANTECHTURE</td>\n",
       "      <td>Sheraton, Cairo, Egypt</td>\n",
       "      <td>10 days ago</td>\n",
       "      <td>full time</td>\n",
       "      <td>hybrid</td>\n",
       "      <td>Experienced 5+ Yrs of Exp</td>\n",
       "      <td>IT/Software Development, Medical/Healthcare, A...</td>\n",
       "    </tr>\n",
       "    <tr>\n",
       "      <th>3</th>\n",
       "      <td>Performance Data Manager</td>\n",
       "      <td>https://wuzzuf.net/jobs/p/ndvbduwlzjmq-perform...</td>\n",
       "      <td>MEAHCO - Saudi German Health</td>\n",
       "      <td>Katameya, Cairo, Egypt</td>\n",
       "      <td>13 days ago</td>\n",
       "      <td>full time</td>\n",
       "      <td>on-site</td>\n",
       "      <td>Experienced 5 - 7 Yrs of Exp</td>\n",
       "      <td>Human Resources, IT/Software Development, Engi...</td>\n",
       "    </tr>\n",
       "    <tr>\n",
       "      <th>4</th>\n",
       "      <td>Data Analyst</td>\n",
       "      <td>https://wuzzuf.net/jobs/p/qoc5v48otzkk-data-an...</td>\n",
       "      <td>NuCorp</td>\n",
       "      <td>Sheraton, Cairo, Egypt</td>\n",
       "      <td>14 days ago</td>\n",
       "      <td>full time</td>\n",
       "      <td>on-site</td>\n",
       "      <td>Experienced 3+ Yrs of Exp</td>\n",
       "      <td>IT/Software Development, Analyst/Research, Ana...</td>\n",
       "    </tr>\n",
       "    <tr>\n",
       "      <th>5</th>\n",
       "      <td>Manager Data Engineering</td>\n",
       "      <td>https://wuzzuf.net/jobs/p/xlmxpqiv28aw-manager...</td>\n",
       "      <td>SANTECHTURE</td>\n",
       "      <td>Sheraton, Cairo, Egypt</td>\n",
       "      <td>10 days ago</td>\n",
       "      <td>full time</td>\n",
       "      <td>hybrid</td>\n",
       "      <td>Manager 5 - 8 Yrs of Exp</td>\n",
       "      <td>IT/Software Development, Information Technolog...</td>\n",
       "    </tr>\n",
       "    <tr>\n",
       "      <th>6</th>\n",
       "      <td>IT - Data Base Administrator</td>\n",
       "      <td>https://wuzzuf.net/jobs/p/v1ppltymk0bb-it---da...</td>\n",
       "      <td>Raya Customer Experience</td>\n",
       "      <td>6th of October, Giza, Egypt</td>\n",
       "      <td>19 days ago</td>\n",
       "      <td>full time</td>\n",
       "      <td>on-site</td>\n",
       "      <td>Experienced 6 - 9 Yrs of Exp</td>\n",
       "      <td>IT/Software Development, Engineering - Telecom...</td>\n",
       "    </tr>\n",
       "    <tr>\n",
       "      <th>7</th>\n",
       "      <td>Power BI Data Analyst</td>\n",
       "      <td>https://wuzzuf.net/jobs/p/1WhRT9rSVulx-Power-B...</td>\n",
       "      <td>Zeina Group</td>\n",
       "      <td>Sheikh Zayed, Giza, Egypt</td>\n",
       "      <td>23 days ago</td>\n",
       "      <td>full time</td>\n",
       "      <td>on-site</td>\n",
       "      <td>Experienced 2+ Yrs of Exp</td>\n",
       "      <td>IT/Software Development, Analyst/Research, Eng...</td>\n",
       "    </tr>\n",
       "    <tr>\n",
       "      <th>8</th>\n",
       "      <td>Data Analysis Instructor (Excel - Power BI)</td>\n",
       "      <td>https://wuzzuf.net/jobs/p/7gIvsdr5STr6-Data-An...</td>\n",
       "      <td>EpsilonAI</td>\n",
       "      <td>Nasr City, Cairo, Egypt</td>\n",
       "      <td>25 days ago</td>\n",
       "      <td>full time, part time, freelance / project</td>\n",
       "      <td>on-site</td>\n",
       "      <td>Experienced 2+ Yrs of Exp</td>\n",
       "      <td>IT/Software Development, Analyst/Research, Tra...</td>\n",
       "    </tr>\n",
       "    <tr>\n",
       "      <th>9</th>\n",
       "      <td>Senior Data Engineer</td>\n",
       "      <td>https://wuzzuf.net/jobs/p/Z76kugdXqDQE-Senior-...</td>\n",
       "      <td>Link Development</td>\n",
       "      <td>Cairo, Egypt</td>\n",
       "      <td>25 days ago</td>\n",
       "      <td>full time</td>\n",
       "      <td>hybrid</td>\n",
       "      <td>Experienced 5+ Yrs of Exp</td>\n",
       "      <td>IT/Software Development, Engineering - Telecom...</td>\n",
       "    </tr>\n",
       "    <tr>\n",
       "      <th>10</th>\n",
       "      <td>Senior Data Engineer</td>\n",
       "      <td>https://wuzzuf.net/jobs/p/hzsom9fvxxve-senior-...</td>\n",
       "      <td>Erada</td>\n",
       "      <td>Maadi, Cairo, Egypt</td>\n",
       "      <td>27 days ago</td>\n",
       "      <td>full time</td>\n",
       "      <td>hybrid</td>\n",
       "      <td>Experienced 4 - 6 Yrs of Exp</td>\n",
       "      <td>IT/Software Development, Engineering, Computer...</td>\n",
       "    </tr>\n",
       "    <tr>\n",
       "      <th>11</th>\n",
       "      <td>AI &amp; Computer Science Intern (Fresh Graduate)</td>\n",
       "      <td>https://wuzzuf.net/internship/jkoigewkbh8y-ai-...</td>\n",
       "      <td>GetSircles Digital Agency</td>\n",
       "      <td>New Cairo, Cairo, Egypt</td>\n",
       "      <td>7 days ago</td>\n",
       "      <td>NaN</td>\n",
       "      <td>on-site</td>\n",
       "      <td>Entry Level</td>\n",
       "      <td>Other, computer, AI, Computer Science, Informa...</td>\n",
       "    </tr>\n",
       "    <tr>\n",
       "      <th>12</th>\n",
       "      <td>Data Analyst</td>\n",
       "      <td>https://wuzzuf.net/jobs/p/k8fJ6TOEajDp-Data-An...</td>\n",
       "      <td>Al Ola steel Group</td>\n",
       "      <td>Dokki, Giza, Egypt</td>\n",
       "      <td>1 month ago</td>\n",
       "      <td>full time</td>\n",
       "      <td>on-site</td>\n",
       "      <td>Entry Level 1 - 4 Yrs of Exp</td>\n",
       "      <td>IT/Software Development, Analyst/Research, com...</td>\n",
       "    </tr>\n",
       "    <tr>\n",
       "      <th>13</th>\n",
       "      <td>Data Analyst</td>\n",
       "      <td>https://wuzzuf.net/jobs/p/vdcej0SqAOz1-Data-An...</td>\n",
       "      <td>je-x</td>\n",
       "      <td>New Cairo, Cairo, Egypt</td>\n",
       "      <td>1 month ago</td>\n",
       "      <td>full time</td>\n",
       "      <td>on-site</td>\n",
       "      <td>Manager 3 - 5 Yrs of Exp</td>\n",
       "      <td>IT/Software Development, Analyst/Research, Eng...</td>\n",
       "    </tr>\n",
       "    <tr>\n",
       "      <th>14</th>\n",
       "      <td>Data Analyst</td>\n",
       "      <td>https://wuzzuf.net/jobs/p/y9nThxS2veUZ-Data-An...</td>\n",
       "      <td>Confidential</td>\n",
       "      <td>Cairo, Egypt</td>\n",
       "      <td>1 month ago</td>\n",
       "      <td>full time</td>\n",
       "      <td>on-site</td>\n",
       "      <td>Experienced 2 - 4 Yrs of Exp</td>\n",
       "      <td>IT/Software Development, Analyst/Research, Eng...</td>\n",
       "    </tr>\n",
       "  </tbody>\n",
       "</table>\n",
       "</div>"
      ],
      "text/plain": [
       "                                            title  \\\n",
       "0                         Data Science Instructor   \n",
       "1                        Power BI & Data Engineer   \n",
       "2                                Sr Data Engineer   \n",
       "3                        Performance Data Manager   \n",
       "4                                    Data Analyst   \n",
       "5                        Manager Data Engineering   \n",
       "6                    IT - Data Base Administrator   \n",
       "7                           Power BI Data Analyst   \n",
       "8     Data Analysis Instructor (Excel - Power BI)   \n",
       "9                            Senior Data Engineer   \n",
       "10                           Senior Data Engineer   \n",
       "11  AI & Computer Science Intern (Fresh Graduate)   \n",
       "12                                   Data Analyst   \n",
       "13                                   Data Analyst   \n",
       "14                                   Data Analyst   \n",
       "\n",
       "                                                 link  \\\n",
       "0   https://wuzzuf.net/jobs/p/qNmqSuZxLUyZ-Data-Sc...   \n",
       "1   https://wuzzuf.net/jobs/p/ffjtbmow1rcd-power-b...   \n",
       "2   https://wuzzuf.net/jobs/p/ftd0zh3jscqe-sr-data...   \n",
       "3   https://wuzzuf.net/jobs/p/ndvbduwlzjmq-perform...   \n",
       "4   https://wuzzuf.net/jobs/p/qoc5v48otzkk-data-an...   \n",
       "5   https://wuzzuf.net/jobs/p/xlmxpqiv28aw-manager...   \n",
       "6   https://wuzzuf.net/jobs/p/v1ppltymk0bb-it---da...   \n",
       "7   https://wuzzuf.net/jobs/p/1WhRT9rSVulx-Power-B...   \n",
       "8   https://wuzzuf.net/jobs/p/7gIvsdr5STr6-Data-An...   \n",
       "9   https://wuzzuf.net/jobs/p/Z76kugdXqDQE-Senior-...   \n",
       "10  https://wuzzuf.net/jobs/p/hzsom9fvxxve-senior-...   \n",
       "11  https://wuzzuf.net/internship/jkoigewkbh8y-ai-...   \n",
       "12  https://wuzzuf.net/jobs/p/k8fJ6TOEajDp-Data-An...   \n",
       "13  https://wuzzuf.net/jobs/p/vdcej0SqAOz1-Data-An...   \n",
       "14  https://wuzzuf.net/jobs/p/y9nThxS2veUZ-Data-An...   \n",
       "\n",
       "                         company                      location     days_ago  \\\n",
       "0                      EpsilonAI      Nasr City, Cairo, Egypt   25 days ago   \n",
       "1                          Mojaa      New Cairo, Cairo, Egypt    7 days ago   \n",
       "2                    SANTECHTURE       Sheraton, Cairo, Egypt   10 days ago   \n",
       "3   MEAHCO - Saudi German Health       Katameya, Cairo, Egypt   13 days ago   \n",
       "4                         NuCorp       Sheraton, Cairo, Egypt   14 days ago   \n",
       "5                    SANTECHTURE       Sheraton, Cairo, Egypt   10 days ago   \n",
       "6       Raya Customer Experience  6th of October, Giza, Egypt   19 days ago   \n",
       "7                    Zeina Group    Sheikh Zayed, Giza, Egypt   23 days ago   \n",
       "8                      EpsilonAI      Nasr City, Cairo, Egypt   25 days ago   \n",
       "9               Link Development                 Cairo, Egypt   25 days ago   \n",
       "10                         Erada          Maadi, Cairo, Egypt   27 days ago   \n",
       "11     GetSircles Digital Agency      New Cairo, Cairo, Egypt    7 days ago   \n",
       "12            Al Ola steel Group           Dokki, Giza, Egypt   1 month ago   \n",
       "13                          je-x      New Cairo, Cairo, Egypt   1 month ago   \n",
       "14                  Confidential                 Cairo, Egypt   1 month ago   \n",
       "\n",
       "                                     job_type working_location  \\\n",
       "0   full time, part time, freelance / project           hybrid   \n",
       "1                                   full time          on-site   \n",
       "2                                   full time           hybrid   \n",
       "3                                   full time          on-site   \n",
       "4                                   full time          on-site   \n",
       "5                                   full time           hybrid   \n",
       "6                                   full time          on-site   \n",
       "7                                   full time          on-site   \n",
       "8   full time, part time, freelance / project          on-site   \n",
       "9                                   full time           hybrid   \n",
       "10                                  full time           hybrid   \n",
       "11                                        NaN          on-site   \n",
       "12                                  full time          on-site   \n",
       "13                                  full time          on-site   \n",
       "14                                  full time          on-site   \n",
       "\n",
       "                       experience  \\\n",
       "0       Entry Level 1+ Yrs of Exp   \n",
       "1   Experienced 5 - 15 Yrs of Exp   \n",
       "2       Experienced 5+ Yrs of Exp   \n",
       "3    Experienced 5 - 7 Yrs of Exp   \n",
       "4       Experienced 3+ Yrs of Exp   \n",
       "5        Manager 5 - 8 Yrs of Exp   \n",
       "6    Experienced 6 - 9 Yrs of Exp   \n",
       "7       Experienced 2+ Yrs of Exp   \n",
       "8       Experienced 2+ Yrs of Exp   \n",
       "9       Experienced 5+ Yrs of Exp   \n",
       "10   Experienced 4 - 6 Yrs of Exp   \n",
       "11                    Entry Level   \n",
       "12   Entry Level 1 - 4 Yrs of Exp   \n",
       "13       Manager 3 - 5 Yrs of Exp   \n",
       "14   Experienced 2 - 4 Yrs of Exp   \n",
       "\n",
       "                                               skills  \n",
       "0   IT/Software Development, Engineering - Telecom...  \n",
       "1   IT/Software Development, Power BI, Data Wareho...  \n",
       "2   IT/Software Development, Medical/Healthcare, A...  \n",
       "3   Human Resources, IT/Software Development, Engi...  \n",
       "4   IT/Software Development, Analyst/Research, Ana...  \n",
       "5   IT/Software Development, Information Technolog...  \n",
       "6   IT/Software Development, Engineering - Telecom...  \n",
       "7   IT/Software Development, Analyst/Research, Eng...  \n",
       "8   IT/Software Development, Analyst/Research, Tra...  \n",
       "9   IT/Software Development, Engineering - Telecom...  \n",
       "10  IT/Software Development, Engineering, Computer...  \n",
       "11  Other, computer, AI, Computer Science, Informa...  \n",
       "12  IT/Software Development, Analyst/Research, com...  \n",
       "13  IT/Software Development, Analyst/Research, Eng...  \n",
       "14  IT/Software Development, Analyst/Research, Eng...  "
      ]
     },
     "execution_count": 20,
     "metadata": {},
     "output_type": "execute_result"
    }
   ],
   "source": [
    "import pandas as pd\n",
    "\n",
    "df = pd.read_csv(\"wuzzuf_datascience_jobs.csv\")\n",
    "df"
   ]
  },
  {
   "cell_type": "markdown",
   "metadata": {},
   "source": [
    "### Pagination"
   ]
  },
  {
   "cell_type": "code",
   "execution_count": 21,
   "metadata": {},
   "outputs": [],
   "source": [
    "r1 = 30 // 15\n",
    "if r1 == 30/15:\n",
    "    430 // 15 \n",
    "else:\n",
    "    430 // 15 + 1"
   ]
  },
  {
   "cell_type": "code",
   "execution_count": 22,
   "metadata": {},
   "outputs": [
    {
     "data": {
      "text/plain": [
       "29"
      ]
     },
     "execution_count": 22,
     "metadata": {},
     "output_type": "execute_result"
    }
   ],
   "source": [
    "430 // 15 + 1"
   ]
  },
  {
   "cell_type": "code",
   "execution_count": 21,
   "metadata": {},
   "outputs": [
    {
     "data": {
      "text/plain": [
       "34"
      ]
     },
     "execution_count": 21,
     "metadata": {},
     "output_type": "execute_result"
    }
   ],
   "source": [
    "res = requests.get(\"https://wuzzuf.net/search/jobs/?a=navbl&q=data%20science%20jobs&start=0\")\n",
    "soup = BeautifulSoup(res.text, 'html.parser')\n",
    "number_of_jobs = int(soup.find(\"li\", attrs={'class':'css-8neukt'}).text.split(\" \")[-1]) # 431\n",
    "job_divs = soup.find_all('div', attrs={'class':'css-1gatmva e1v1l3u10'})\n",
    "jobs_within_page = len(job_divs) # 15\n",
    "\n",
    "total_number_of_pages = 0\n",
    "if number_of_jobs // jobs_within_page == number_of_jobs / jobs_within_page: # 2 == 2.1\n",
    "    total_number_of_pages = number_of_jobs // jobs_within_page\n",
    "else:\n",
    "    total_number_of_pages = number_of_jobs // jobs_within_page + 1\n",
    "total_number_of_pages"
   ]
  },
  {
   "cell_type": "code",
   "execution_count": 22,
   "metadata": {},
   "outputs": [
    {
     "name": "stdout",
     "output_type": "stream",
     "text": [
      "Scraping page 1\n",
      "Scraping page 2\n",
      "Scraping page 3\n",
      "Scraping page 4\n",
      "Scraping page 5\n",
      "Scraping page 6\n",
      "Scraping page 7\n",
      "Scraping page 8\n",
      "Scraping page 9\n",
      "Scraping page 10\n",
      "Scraping page 11\n",
      "Scraping page 12\n",
      "Scraping page 13\n",
      "Scraping page 14\n",
      "Scraping page 15\n",
      "Scraping page 16\n",
      "Scraping page 17\n",
      "Scraping page 18\n",
      "Scraping page 19\n",
      "Scraping page 20\n",
      "Scraping page 21\n",
      "Volunteering\n",
      "Scraping page 22\n",
      "Scraping page 23\n",
      "Scraping page 24\n",
      "Scraping page 25\n",
      "Scraping page 26\n",
      "Scraping page 27\n",
      "Scraping page 28\n",
      "Scraping page 29\n",
      "Scraping page 30\n",
      "Scraping page 31\n",
      "Scraping page 32\n",
      "Scraping page 33\n",
      "Scraping page 34\n"
     ]
    }
   ],
   "source": [
    "def get_jobtype_working_location(job_div):\n",
    "    job_type = \"\"\n",
    "    working_location = \"\"\n",
    "\n",
    "    job_type_working_tags = job_div.find(\"div\", attrs={'class':'css-1lh32fc'}).find_all('a')\n",
    "    for i in range(len(job_type_working_tags)):\n",
    "        if job_type_working_tags[i].text.lower() in ['full time', 'part time', 'freelance / project', 'freelance', 'project', 'internship', 'shift based']:\n",
    "            job_type = job_type + ', ' + job_type_working_tags[i].text.lower()\n",
    "        elif job_type_working_tags[i].text.lower() in ['on-site', 'hybrid', 'remote']:\n",
    "            working_location = working_location + ', ' + job_type_working_tags[i].text.lower()\n",
    "        else:\n",
    "            print(job_type_working_tags[i].text)\n",
    "\n",
    "    job_type = job_type.strip(', ')\n",
    "    working_location = working_location.strip(', ')\n",
    "\n",
    "    return job_type, working_location \n",
    "\n",
    "with open(\"wuzzuf_datascience_jobs.csv\", mode='w', encoding='utf-8') as fd:\n",
    "    fd.write(\"title,link,company,location,days_ago,job_type,working_location,experience,skills\\n\") # header\n",
    "\n",
    "    # scrape number of pages\n",
    "    res = requests.get(\"https://wuzzuf.net/search/jobs/?a=navbl&q=data%20science%20jobs&start=0\")\n",
    "    soup = BeautifulSoup(res.text, 'html.parser')\n",
    "    number_of_jobs = int(soup.find(\"li\", attrs={'class':'css-8neukt'}).text.split(\" \")[-1]) # 431\n",
    "    job_divs = soup.find_all('div', attrs={'class':'css-1gatmva e1v1l3u10'})\n",
    "    jobs_within_page = len(job_divs) # 15\n",
    "\n",
    "    total_number_of_pages = 0\n",
    "    if number_of_jobs // jobs_within_page == number_of_jobs / jobs_within_page: # 2 == 2.1\n",
    "        total_number_of_pages = number_of_jobs // jobs_within_page\n",
    "    else:\n",
    "        total_number_of_pages = number_of_jobs // jobs_within_page + 1\n",
    "    \n",
    "    # pagination\n",
    "    for i in range(total_number_of_pages):\n",
    "        print(f\"Scraping page {i+1}\")\n",
    "        res = requests.get(f\"https://wuzzuf.net/search/jobs/?a=navbl&q=data%20science%20jobs&start={i}\")\n",
    "        soup = BeautifulSoup(res.text, 'html.parser')\n",
    "        job_divs = soup.find_all('div', attrs={'class':'css-1gatmva e1v1l3u10'})\n",
    "\n",
    "        # data from 1 page\n",
    "        for i in range(len(job_divs)):\n",
    "            # title\n",
    "            job_tag = job_divs[i].find(\"a\", attrs={'class':'css-o171kl'})\n",
    "            job_name = job_tag.text.replace(\"\\\"\", \"'\")\n",
    "\n",
    "            # link\n",
    "            job_link = job_tag.attrs['href']\n",
    "\n",
    "            # company\n",
    "            company_tag = job_divs[i].find(\"a\", attrs={'class':'css-17s97q8'})\n",
    "            company = company_tag.text.strip(\" -\")\n",
    "\n",
    "            # location\n",
    "            location_tag = job_divs[i].find(\"span\", attrs={\"class\":'css-5wys0k'})\n",
    "            location = location_tag.text\n",
    "\n",
    "            # days_ago\n",
    "            days_ago = job_divs[i].find('div', attrs={'class':'css-d7j1kk'}).find(\"div\").text\n",
    "            \n",
    "            # job_type: job_type,working_location\n",
    "            job_type, working_location  = get_jobtype_working_location(job_divs[i])\n",
    "\n",
    "            # experinced_number_of_year, skils\n",
    "            experience_skills_list = job_divs[i].find(\"div\", attrs={'class':\"css-y4udm8\"}).find_all('div')[-1].text.split(\" · \")\n",
    "            experience = \"\"\n",
    "            skills = \"\"\n",
    "\n",
    "            ## check ecperienced years\n",
    "            if experience_skills_list[1][0].isnumeric():\n",
    "                experience = \" \".join(experience_skills_list[0:2])\n",
    "                skills = \", \".join(experience_skills_list[2:])\n",
    "            else:\n",
    "                experience = experience_skills_list[0]\n",
    "                skills = \", \".join(experience_skills_list[1:])\n",
    "            \n",
    "            fd.write(f\"\\\"{job_name}\\\",\\\"{job_link}\\\",\\\"{company}\\\",\\\"{location}\\\",\\\"{days_ago}\\\",\\\"{job_type}\\\",\\\"{working_location}\\\",\\\"{experience}\\\",\\\"{skills}\\\"\\n\")"
   ]
  },
  {
   "cell_type": "code",
   "execution_count": 23,
   "metadata": {},
   "outputs": [
    {
     "data": {
      "text/html": [
       "<div>\n",
       "<style scoped>\n",
       "    .dataframe tbody tr th:only-of-type {\n",
       "        vertical-align: middle;\n",
       "    }\n",
       "\n",
       "    .dataframe tbody tr th {\n",
       "        vertical-align: top;\n",
       "    }\n",
       "\n",
       "    .dataframe thead th {\n",
       "        text-align: right;\n",
       "    }\n",
       "</style>\n",
       "<table border=\"1\" class=\"dataframe\">\n",
       "  <thead>\n",
       "    <tr style=\"text-align: right;\">\n",
       "      <th></th>\n",
       "      <th>title</th>\n",
       "      <th>link</th>\n",
       "      <th>company</th>\n",
       "      <th>location</th>\n",
       "      <th>days_ago</th>\n",
       "      <th>job_type</th>\n",
       "      <th>working_location</th>\n",
       "      <th>experience</th>\n",
       "      <th>skills</th>\n",
       "    </tr>\n",
       "  </thead>\n",
       "  <tbody>\n",
       "    <tr>\n",
       "      <th>0</th>\n",
       "      <td>Data Science Instructor</td>\n",
       "      <td>https://wuzzuf.net/jobs/p/qNmqSuZxLUyZ-Data-Sc...</td>\n",
       "      <td>EpsilonAI</td>\n",
       "      <td>Nasr City, Cairo, Egypt</td>\n",
       "      <td>25 days ago</td>\n",
       "      <td>full time, part time, freelance / project</td>\n",
       "      <td>hybrid</td>\n",
       "      <td>Entry Level 1+ Yrs of Exp</td>\n",
       "      <td>IT/Software Development, Engineering - Telecom...</td>\n",
       "    </tr>\n",
       "    <tr>\n",
       "      <th>1</th>\n",
       "      <td>Power BI &amp; Data Engineer</td>\n",
       "      <td>https://wuzzuf.net/jobs/p/ffjtbmow1rcd-power-b...</td>\n",
       "      <td>Mojaa</td>\n",
       "      <td>New Cairo, Cairo, Egypt</td>\n",
       "      <td>7 days ago</td>\n",
       "      <td>full time</td>\n",
       "      <td>on-site</td>\n",
       "      <td>Experienced 5 - 15 Yrs of Exp</td>\n",
       "      <td>IT/Software Development, Power BI, Data Wareho...</td>\n",
       "    </tr>\n",
       "    <tr>\n",
       "      <th>2</th>\n",
       "      <td>Sr Data Engineer</td>\n",
       "      <td>https://wuzzuf.net/jobs/p/ftd0zh3jscqe-sr-data...</td>\n",
       "      <td>SANTECHTURE</td>\n",
       "      <td>Sheraton, Cairo, Egypt</td>\n",
       "      <td>10 days ago</td>\n",
       "      <td>full time</td>\n",
       "      <td>hybrid</td>\n",
       "      <td>Experienced 5+ Yrs of Exp</td>\n",
       "      <td>IT/Software Development, Medical/Healthcare, A...</td>\n",
       "    </tr>\n",
       "    <tr>\n",
       "      <th>3</th>\n",
       "      <td>Performance Data Manager</td>\n",
       "      <td>https://wuzzuf.net/jobs/p/ndvbduwlzjmq-perform...</td>\n",
       "      <td>MEAHCO - Saudi German Health</td>\n",
       "      <td>Katameya, Cairo, Egypt</td>\n",
       "      <td>13 days ago</td>\n",
       "      <td>full time</td>\n",
       "      <td>on-site</td>\n",
       "      <td>Experienced 5 - 7 Yrs of Exp</td>\n",
       "      <td>Human Resources, IT/Software Development, Engi...</td>\n",
       "    </tr>\n",
       "    <tr>\n",
       "      <th>4</th>\n",
       "      <td>Data Analyst</td>\n",
       "      <td>https://wuzzuf.net/jobs/p/qoc5v48otzkk-data-an...</td>\n",
       "      <td>NuCorp</td>\n",
       "      <td>Sheraton, Cairo, Egypt</td>\n",
       "      <td>14 days ago</td>\n",
       "      <td>full time</td>\n",
       "      <td>on-site</td>\n",
       "      <td>Experienced 3+ Yrs of Exp</td>\n",
       "      <td>IT/Software Development, Analyst/Research, Ana...</td>\n",
       "    </tr>\n",
       "    <tr>\n",
       "      <th>...</th>\n",
       "      <td>...</td>\n",
       "      <td>...</td>\n",
       "      <td>...</td>\n",
       "      <td>...</td>\n",
       "      <td>...</td>\n",
       "      <td>...</td>\n",
       "      <td>...</td>\n",
       "      <td>...</td>\n",
       "      <td>...</td>\n",
       "    </tr>\n",
       "    <tr>\n",
       "      <th>501</th>\n",
       "      <td>Partner Sales Manager - IHV Alliances</td>\n",
       "      <td>https://wuzzuf.net/jobs/p/g/ozhrspakdfwx-partn...</td>\n",
       "      <td>Canonical</td>\n",
       "      <td>Makkah, Saudi Arabia</td>\n",
       "      <td>4 days ago</td>\n",
       "      <td>full time</td>\n",
       "      <td>NaN</td>\n",
       "      <td>Entry Level</td>\n",
       "      <td>Customer Service/Support, Operations/Managemen...</td>\n",
       "    </tr>\n",
       "    <tr>\n",
       "      <th>502</th>\n",
       "      <td>CUBIC Business Development Manager</td>\n",
       "      <td>https://wuzzuf.net/jobs/p/g/jbebu1fyyapg-cubic...</td>\n",
       "      <td>Rockwell Automation</td>\n",
       "      <td>Riyadh, Saudi Arabia</td>\n",
       "      <td>19 days ago</td>\n",
       "      <td>full time</td>\n",
       "      <td>NaN</td>\n",
       "      <td>Experienced</td>\n",
       "      <td>Business Development, Marketing/PR/Advertising...</td>\n",
       "    </tr>\n",
       "    <tr>\n",
       "      <th>503</th>\n",
       "      <td>ARRT/LSRT/MA</td>\n",
       "      <td>https://wuzzuf.net/jobs/p/g/2OnkL4h9Jpo7-ARRTL...</td>\n",
       "      <td>American Family Care</td>\n",
       "      <td>Dubai, United Arab Emirates</td>\n",
       "      <td>23 days ago</td>\n",
       "      <td>full time</td>\n",
       "      <td>NaN</td>\n",
       "      <td>Entry Level</td>\n",
       "      <td>R&amp;D/Science, IT/Software Development, Medical/...</td>\n",
       "    </tr>\n",
       "    <tr>\n",
       "      <th>504</th>\n",
       "      <td>Director/Manager of Admissions &amp; Registration</td>\n",
       "      <td>https://wuzzuf.net/jobs/p/g/m0OS1txnKj3m-Direc...</td>\n",
       "      <td>Dubai Medical University</td>\n",
       "      <td>Dubai, United Arab Emirates</td>\n",
       "      <td>1 month ago</td>\n",
       "      <td>full time</td>\n",
       "      <td>NaN</td>\n",
       "      <td>Experienced</td>\n",
       "      <td>Administration, Operations/Management, Sales/R...</td>\n",
       "    </tr>\n",
       "    <tr>\n",
       "      <th>505</th>\n",
       "      <td>Partner Sales Director - Global System Integra...</td>\n",
       "      <td>https://wuzzuf.net/jobs/p/g/MBqigCbTxMrM-Partn...</td>\n",
       "      <td>Canonical</td>\n",
       "      <td>Makkah, Saudi Arabia</td>\n",
       "      <td>1 month ago</td>\n",
       "      <td>full time</td>\n",
       "      <td>NaN</td>\n",
       "      <td>Manager</td>\n",
       "      <td>Operations/Management, Marketing/PR/Advertisin...</td>\n",
       "    </tr>\n",
       "  </tbody>\n",
       "</table>\n",
       "<p>506 rows × 9 columns</p>\n",
       "</div>"
      ],
      "text/plain": [
       "                                                 title  \\\n",
       "0                              Data Science Instructor   \n",
       "1                             Power BI & Data Engineer   \n",
       "2                                     Sr Data Engineer   \n",
       "3                             Performance Data Manager   \n",
       "4                                         Data Analyst   \n",
       "..                                                 ...   \n",
       "501              Partner Sales Manager - IHV Alliances   \n",
       "502                 CUBIC Business Development Manager   \n",
       "503                                       ARRT/LSRT/MA   \n",
       "504      Director/Manager of Admissions & Registration   \n",
       "505  Partner Sales Director - Global System Integra...   \n",
       "\n",
       "                                                  link  \\\n",
       "0    https://wuzzuf.net/jobs/p/qNmqSuZxLUyZ-Data-Sc...   \n",
       "1    https://wuzzuf.net/jobs/p/ffjtbmow1rcd-power-b...   \n",
       "2    https://wuzzuf.net/jobs/p/ftd0zh3jscqe-sr-data...   \n",
       "3    https://wuzzuf.net/jobs/p/ndvbduwlzjmq-perform...   \n",
       "4    https://wuzzuf.net/jobs/p/qoc5v48otzkk-data-an...   \n",
       "..                                                 ...   \n",
       "501  https://wuzzuf.net/jobs/p/g/ozhrspakdfwx-partn...   \n",
       "502  https://wuzzuf.net/jobs/p/g/jbebu1fyyapg-cubic...   \n",
       "503  https://wuzzuf.net/jobs/p/g/2OnkL4h9Jpo7-ARRTL...   \n",
       "504  https://wuzzuf.net/jobs/p/g/m0OS1txnKj3m-Direc...   \n",
       "505  https://wuzzuf.net/jobs/p/g/MBqigCbTxMrM-Partn...   \n",
       "\n",
       "                          company                      location     days_ago  \\\n",
       "0                       EpsilonAI      Nasr City, Cairo, Egypt   25 days ago   \n",
       "1                           Mojaa      New Cairo, Cairo, Egypt    7 days ago   \n",
       "2                     SANTECHTURE       Sheraton, Cairo, Egypt   10 days ago   \n",
       "3    MEAHCO - Saudi German Health       Katameya, Cairo, Egypt   13 days ago   \n",
       "4                          NuCorp       Sheraton, Cairo, Egypt   14 days ago   \n",
       "..                            ...                           ...          ...   \n",
       "501                     Canonical         Makkah, Saudi Arabia    4 days ago   \n",
       "502           Rockwell Automation         Riyadh, Saudi Arabia   19 days ago   \n",
       "503          American Family Care  Dubai, United Arab Emirates   23 days ago   \n",
       "504      Dubai Medical University  Dubai, United Arab Emirates   1 month ago   \n",
       "505                     Canonical         Makkah, Saudi Arabia   1 month ago   \n",
       "\n",
       "                                      job_type working_location  \\\n",
       "0    full time, part time, freelance / project           hybrid   \n",
       "1                                    full time          on-site   \n",
       "2                                    full time           hybrid   \n",
       "3                                    full time          on-site   \n",
       "4                                    full time          on-site   \n",
       "..                                         ...              ...   \n",
       "501                                  full time              NaN   \n",
       "502                                  full time              NaN   \n",
       "503                                  full time              NaN   \n",
       "504                                  full time              NaN   \n",
       "505                                  full time              NaN   \n",
       "\n",
       "                        experience  \\\n",
       "0        Entry Level 1+ Yrs of Exp   \n",
       "1    Experienced 5 - 15 Yrs of Exp   \n",
       "2        Experienced 5+ Yrs of Exp   \n",
       "3     Experienced 5 - 7 Yrs of Exp   \n",
       "4        Experienced 3+ Yrs of Exp   \n",
       "..                             ...   \n",
       "501                    Entry Level   \n",
       "502                    Experienced   \n",
       "503                    Entry Level   \n",
       "504                    Experienced   \n",
       "505                        Manager   \n",
       "\n",
       "                                                skills  \n",
       "0    IT/Software Development, Engineering - Telecom...  \n",
       "1    IT/Software Development, Power BI, Data Wareho...  \n",
       "2    IT/Software Development, Medical/Healthcare, A...  \n",
       "3    Human Resources, IT/Software Development, Engi...  \n",
       "4    IT/Software Development, Analyst/Research, Ana...  \n",
       "..                                                 ...  \n",
       "501  Customer Service/Support, Operations/Managemen...  \n",
       "502  Business Development, Marketing/PR/Advertising...  \n",
       "503  R&D/Science, IT/Software Development, Medical/...  \n",
       "504  Administration, Operations/Management, Sales/R...  \n",
       "505  Operations/Management, Marketing/PR/Advertisin...  \n",
       "\n",
       "[506 rows x 9 columns]"
      ]
     },
     "execution_count": 23,
     "metadata": {},
     "output_type": "execute_result"
    }
   ],
   "source": [
    "import pandas as pd\n",
    "\n",
    "df = pd.read_csv(\"wuzzuf_datascience_jobs.csv\")\n",
    "df"
   ]
  },
  {
   "cell_type": "code",
   "execution_count": 26,
   "metadata": {},
   "outputs": [
    {
     "data": {
      "text/plain": [
       "'https://wuzzuf.net/jobs/p/jrIWIZdIbmGA-economics-and-political-science-researcher-Experienced-الناجح-للخدمات-والاستشارات-التعليمية-والطلابية-Cairo-Egypt'"
      ]
     },
     "execution_count": 26,
     "metadata": {},
     "output_type": "execute_result"
    }
   ],
   "source": [
    "df['link'][2]"
   ]
  }
 ],
 "metadata": {
  "kernelspec": {
   "display_name": "machine_learning",
   "language": "python",
   "name": "python3"
  },
  "language_info": {
   "codemirror_mode": {
    "name": "ipython",
    "version": 3
   },
   "file_extension": ".py",
   "mimetype": "text/x-python",
   "name": "python",
   "nbconvert_exporter": "python",
   "pygments_lexer": "ipython3",
   "version": "3.9.19"
  }
 },
 "nbformat": 4,
 "nbformat_minor": 2
}
